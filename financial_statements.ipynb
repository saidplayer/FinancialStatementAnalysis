{
  "nbformat": 4,
  "nbformat_minor": 0,
  "metadata": {
    "colab": {
      "provenance": []
    },
    "kernelspec": {
      "name": "python3",
      "display_name": "Python 3"
    },
    "language_info": {
      "name": "python"
    }
  },
  "cells": [
    {
      "cell_type": "code",
      "execution_count": 1,
      "metadata": {
        "id": "TzQln8xq4fFj"
      },
      "outputs": [],
      "source": [
        "# www.drsoli.com\n",
        "# This is the full source code for Financial statements analysis post\n",
        "# link to the post: https://drsoli.com/index.php/2023/09/18/10-k-financial-statements-analyzing-companies-reports-with-sec-edgar-api/\n",
        "\n",
        "import requests\n",
        "import json\n",
        "from yfinance import download\n",
        "from contextlib import suppress"
      ]
    },
    {
      "cell_type": "code",
      "source": [
        "CIK_list = [\n",
        "  [\"aapl\",320193 ],\n",
        "  [\"msft\",789019],\n",
        "  [\"xom\",34088],\n",
        "  [\"nvda\",1045810],\n",
        "  [\"tsla\",1318605],\n",
        "  [\"pfe\",78003],\n",
        "  [\"baba\",1577552],\n",
        "  [\"csco\",858877],\n",
        "  [\"adbe\",796343],\n",
        "  [\"pypl\",1633917],\n",
        "  [\"ibm\",51143],\n",
        "  [\"nflx\",1065280],\n",
        "  [\"ba\",12927],\n",
        "  [\"wmt\", 104169],\n",
        "  [\"jpm\", 19617],\n",
        "  [\"orcl\", 1341439],\n",
        "  [\"nke\", 320187],\n",
        "  [\"amd\", 2488],\n",
        "  [\"tgt\", 27419],\n",
        "  [\"ge\", 40545],\n",
        "  [\"googl\", 1652044],\n",
        "  [\"amzn\", 1018724],\n",
        "  [\"f\", 37996]\n",
        " ]"
      ],
      "metadata": {
        "id": "-ILu84i4cMwv"
      },
      "execution_count": 2,
      "outputs": []
    },
    {
      "cell_type": "code",
      "source": [
        "def get_price(Ticker):\n",
        "    try:\n",
        "        data = download(tickers=Ticker, period='1d', interval='1h', progress=False)\n",
        "        data = str(data['Close'][0])\n",
        "        return data\n",
        "    except Exception as err:\n",
        "        print(\"getPrice error: \" + str(err))\n",
        "        return None"
      ],
      "metadata": {
        "id": "CtS1rGu4fd-3"
      },
      "execution_count": 3,
      "outputs": []
    },
    {
      "cell_type": "code",
      "source": [
        "def get_raw_data(CIK):\n",
        "  CIK = str(CIK)\n",
        "  for i in range(10 - len(CIK)):\n",
        "    CIK = \"0\" + CIK\n",
        "  my_headers = {\"user-agent\": \"Mozilla/5.0 (Windows NT 10.0; Win64; x64) AppleWebKit/537.36 (KHTML, like Gecko) Chrome/112.0.0.0 Safari/537.36\" }\n",
        "  data = requests.get(\"https://data.sec.gov/api/xbrl/companyfacts/CIK\" + CIK + \".json\", headers = my_headers)\n",
        "  data = json.loads(data.text)\n",
        "  return data"
      ],
      "metadata": {
        "id": "VrOI71eG4pFv"
      },
      "execution_count": 4,
      "outputs": []
    },
    {
      "cell_type": "code",
      "source": [
        "def calculate_ratios(data, ticker):\n",
        "  current_ratio = \"__\"\n",
        "  leverage_ratio = \"__\"\n",
        "  PE_ratio = \"__\"\n",
        "  inventory_turnover = \"__\"\n",
        "  with suppress(KeyError):\n",
        "    assets_current = (data[\"facts\"][\"us-gaap\"][\"AssetsCurrent\"][\"units\"][\"USD\"][-1][\"val\"])\n",
        "    liabilities_current = (data[\"facts\"][\"us-gaap\"][\"LiabilitiesCurrent\"][\"units\"][\"USD\"][-1][\"val\"])\n",
        "    current_ratio = assets_current / liabilities_current\n",
        "  with suppress(KeyError):\n",
        "    assets = (data[\"facts\"][\"us-gaap\"][\"Assets\"][\"units\"][\"USD\"][-1][\"val\"])\n",
        "    stockholders_equity = (data[\"facts\"][\"us-gaap\"][\"StockholdersEquity\"][\"units\"][\"USD\"][-1][\"val\"])\n",
        "    leverage_ratio = assets / stockholders_equity\n",
        "  with suppress(KeyError):\n",
        "    earnings_per_share_basic = (data[\"facts\"][\"us-gaap\"][\"EarningsPerShareBasic\"][\"units\"][\"USD/shares\"][-1][\"val\"])\n",
        "    share_price = get_price(ticker)\n",
        "    PE_ratio = float(share_price) / earnings_per_share_basic\n",
        "  try:\n",
        "    inventory_net = (data[\"facts\"][\"us-gaap\"][\"InventoryNet\"][\"units\"][\"USD\"][-1][\"val\"])\n",
        "    try:\n",
        "      cost_of_goods_sold = (data[\"facts\"][\"us-gaap\"][\"CostOfGoodsSold\"][\"units\"][\"USD\"][-1][\"val\"])\n",
        "    except:\n",
        "      try:\n",
        "        cost_of_goods_sold = (data[\"facts\"][\"us-gaap\"][\"CostOfGoodsAndServicesSold\"][\"units\"][\"USD\"][-1][\"val\"])\n",
        "      except:\n",
        "        try:\n",
        "          cost_of_goods_sold = (data[\"facts\"][\"us-gaap\"][\"CostOfRevenue\"][\"units\"][\"USD\"][-1][\"val\"]) - (data[\"facts\"][\"us-gaap\"][\"MarketingAndAdvertisingExpense\"][\"units\"][\"USD\"][-1][\"val\"])\n",
        "        except:\n",
        "          cost_of_goods_sold = (data[\"facts\"][\"us-gaap\"][\"CostOfRevenue\"][\"units\"][\"USD\"][-1][\"val\"]) - (data[\"facts\"][\"us-gaap\"][\"AdvertisingExpense\"][\"units\"][\"USD\"][-1][\"val\"])\n",
        "    inventory_turnover = cost_of_goods_sold / inventory_net\n",
        "  except:\n",
        "    pass\n",
        "  ratios = [current_ratio, leverage_ratio, PE_ratio, inventory_turnover]\n",
        "  ratios = [ratio if isinstance(ratio, str) else str(round(ratio,3)) for ratio in ratios]\n",
        "  return ratios"
      ],
      "metadata": {
        "id": "hDirVInqSRQL"
      },
      "execution_count": 5,
      "outputs": []
    },
    {
      "cell_type": "code",
      "source": [
        "for [Ticker, CIK] in CIK_list:\n",
        "  data = get_raw_data(CIK)\n",
        "  print(Ticker, \"\\t\\t\", data[\"facts\"][\"us-gaap\"][\"Assets\"][\"units\"][\"USD\"][-1][\"val\"])"
      ],
      "metadata": {
        "id": "6ic6KQfTS1Pq",
        "colab": {
          "base_uri": "https://localhost:8080/"
        },
        "outputId": "d202811b-154a-440f-abaf-c5baaf9234be"
      },
      "execution_count": 6,
      "outputs": [
        {
          "output_type": "stream",
          "name": "stdout",
          "text": [
            "aapl \t\t 337411000000\n",
            "msft \t\t 484275000000\n",
            "xom \t\t 377918000000\n",
            "nvda \t\t 77072000000\n",
            "tsla \t\t 109226000000\n",
            "pfe \t\t 221095000000\n",
            "baba \t\t 244426000000\n",
            "csco \t\t 122998000000\n",
            "adbe \t\t 28751000000\n",
            "pypl \t\t 83347000000\n",
            "ibm \t\t 137169000000\n",
            "nflx \t\t 48827721000\n",
            "ba \t\t 134484000000\n",
            "wmt \t\t 254054000000\n",
            "jpm \t\t 4090727000000\n",
            "orcl \t\t 137082000000\n",
            "nke \t\t 37356000000\n",
            "amd \t\t 67895000000\n",
            "tgt \t\t 55117000000\n",
            "ge \t\t 163942000000\n",
            "googl \t\t 407350000000\n",
            "amzn \t\t 530969000000\n",
            "f \t\t 274341000000\n"
          ]
        }
      ]
    },
    {
      "cell_type": "code",
      "source": [
        "print(\"%12s\" % \"Ticker\", \"%15s\" % \"Current\", \"%15s\" %  \"Leverage\", \"%15s\" % \"P/E\", \"%25s\" % \"Inventory Turnover\")\n",
        "print(\"     ___________________________________________________________________________________\\n\")\n",
        "for [Ticker, CIK] in CIK_list:\n",
        "  data = get_raw_data(CIK)\n",
        "  ratios = calculate_ratios(data, Ticker)\n",
        "  print(\"%12s\" % Ticker, \"%15s\" % ratios[0], \"%15s\" % ratios[1], \"%15s\" % ratios[2], \"%25s\" % ratios[3])"
      ],
      "metadata": {
        "id": "B4R_U_lFSu6G",
        "colab": {
          "base_uri": "https://localhost:8080/"
        },
        "outputId": "d20199e0-6483-474d-c384-d60cb4a491bb"
      },
      "execution_count": 7,
      "outputs": [
        {
          "output_type": "stream",
          "name": "stdout",
          "text": [
            "      Ticker         Current        Leverage             P/E        Inventory Turnover\n",
            "     ___________________________________________________________________________________\n",
            "\n",
            "        aapl           1.037           4.548         139.471                      7.78\n",
            "        msft           1.242           1.913         149.603                     2.627\n",
            "         xom           1.382           1.841          52.777                        __\n",
            "        nvda           3.529           1.568           21.96                     1.071\n",
            "        tsla           1.716           1.697         484.351                     0.158\n",
            "         pfe           1.047           2.396          49.964                     0.235\n",
            "        baba           1.786           1.789         134.273                        __\n",
            "        csco           0.895           2.687          95.803                     1.163\n",
            "        adbe           1.049            1.86         383.015                        __\n",
            "        pypl           1.278           4.026          73.512                        __\n",
            "         ibm           1.132           5.897            95.9                     5.987\n",
            "        nflx           1.068           2.285         124.343                        __\n",
            "          ba           1.142          -7.907        -317.134                        __\n",
            "         wmt           0.803           3.125          106.04                     2.113\n",
            "         jpm              __          12.152          43.155                        __\n",
            "        orcl           0.846          24.379         158.626                     5.987\n",
            "         nke           2.741           2.626         121.766                     1.941\n",
            "         amd           2.639           1.208        1988.503                     0.226\n",
            "         tgt            0.86           3.982          68.544                     1.488\n",
            "          ge           1.166           5.491         110.709                     0.806\n",
            "       googl           2.149           1.391          92.243                     8.459\n",
            "        amzn           1.072           2.451         183.305                     2.332\n",
            "           f           1.168           6.399          35.151                     1.958\n"
          ]
        }
      ]
    }
  ]
}